{
 "cells": [
  {
   "cell_type": "code",
   "execution_count": 1,
   "id": "69134e44-a5d8-465c-bdff-919907ed1da7",
   "metadata": {
    "tags": []
   },
   "outputs": [],
   "source": [
    "import sys,os\n",
    "[sys.path.append(x[0]) for x in os.walk('tools')]\n",
    "import dictionariesSL2P\n",
    "import SL2P\n",
    "from matplotlib import pyplot as plt\n",
    "import os,numpy\n",
    "import rasterio\n",
    "import os\n",
    "import pandas as pd"
   ]
  },
  {
   "cell_type": "markdown",
   "id": "973b6bf7-eb46-4b62-8687-157590821b39",
   "metadata": {
    "tags": []
   },
   "source": [
    "### Initiation"
   ]
  },
  {
   "cell_type": "code",
   "execution_count": 2,
   "id": "636e3f15-5ed4-4ae6-8e60-7d0f2532bb1f",
   "metadata": {
    "tags": []
   },
   "outputs": [
    {
     "name": "stdout",
     "output_type": "stream",
     "text": [
      "SL2P input data format for S2_L2A data: ['cosVZA', 'cosSZA', 'cosRAA', 'B03', 'B04', 'B05', 'B06', 'B07', 'B8A', 'B11', 'B12']\n",
      "Estimating LAI from S2_L2A data using SL2P-V0 [Marie Weiss]\n",
      "Run SL2P...\n",
      "SL2P start: 2025-01-12 00:19:16.040072\n",
      "SL2P end: 2025-01-12 00:19:16.246384\n",
      "Generating sl2p input data flag\n",
      "Generating sl2p output product flag\n",
      "Done\n",
      "SL2P input data format for S2_L2A data: ['cosVZA', 'cosSZA', 'cosRAA', 'B03', 'B04', 'B05', 'B06', 'B07', 'B8A', 'B11', 'B12']\n",
      "Estimating LAI from S2_L2A data using SL2P-V0 [Marie Weiss]\n",
      "Run SL2P...\n",
      "SL2P start: 2025-01-12 00:19:24.246696\n",
      "SL2P end: 2025-01-12 00:19:24.448300\n",
      "Generating sl2p input data flag\n",
      "Generating sl2p output product flag\n",
      "Done\n",
      "SL2P input data format for S2_L2A data: ['cosVZA', 'cosSZA', 'cosRAA', 'B03', 'B04', 'B05', 'B06', 'B07', 'B8A', 'B11', 'B12']\n",
      "Estimating LAI from S2_L2A data using SL2P-V0 [Marie Weiss]\n",
      "Run SL2P...\n",
      "SL2P start: 2025-01-12 00:19:32.123362\n",
      "SL2P end: 2025-01-12 00:19:32.307791\n",
      "Generating sl2p input data flag\n",
      "Generating sl2p output product flag\n",
      "Done\n",
      "SL2P input data format for S2_L2A data: ['cosVZA', 'cosSZA', 'cosRAA', 'B03', 'B04', 'B05', 'B06', 'B07', 'B8A', 'B11', 'B12']\n",
      "Estimating LAI from S2_L2A data using SL2P-V0 [Marie Weiss]\n",
      "Run SL2P...\n",
      "SL2P start: 2025-01-12 00:19:38.999987\n",
      "SL2P end: 2025-01-12 00:19:39.211217\n",
      "Generating sl2p input data flag\n",
      "Generating sl2p output product flag\n",
      "Done\n",
      "SL2P input data format for S2_L2A data: ['cosVZA', 'cosSZA', 'cosRAA', 'B03', 'B04', 'B05', 'B06', 'B07', 'B8A', 'B11', 'B12']\n",
      "Estimating LAI from S2_L2A data using SL2P-V0 [Marie Weiss]\n",
      "Run SL2P...\n",
      "SL2P start: 2025-01-12 00:19:47.840975\n",
      "SL2P end: 2025-01-12 00:19:48.059713\n",
      "Generating sl2p input data flag\n",
      "Generating sl2p output product flag\n",
      "Done\n",
      "SL2P input data format for S2_L2A data: ['cosVZA', 'cosSZA', 'cosRAA', 'B03', 'B04', 'B05', 'B06', 'B07', 'B8A', 'B11', 'B12']\n",
      "Estimating LAI from S2_L2A data using SL2P-V0 [Marie Weiss]\n",
      "Run SL2P...\n",
      "SL2P start: 2025-01-12 00:19:56.804512\n",
      "SL2P end: 2025-01-12 00:19:56.985414\n",
      "Generating sl2p input data flag\n",
      "Generating sl2p output product flag\n",
      "Done\n",
      "SL2P input data format for S2_L2A data: ['cosVZA', 'cosSZA', 'cosRAA', 'B03', 'B04', 'B05', 'B06', 'B07', 'B8A', 'B11', 'B12']\n",
      "Estimating LAI from S2_L2A data using SL2P-V0 [Marie Weiss]\n",
      "Run SL2P...\n",
      "SL2P start: 2025-01-12 00:20:03.992016\n",
      "SL2P end: 2025-01-12 00:20:04.163955\n",
      "Generating sl2p input data flag\n",
      "Generating sl2p output product flag\n",
      "Done\n",
      "SL2P input data format for S2_L2A data: ['cosVZA', 'cosSZA', 'cosRAA', 'B03', 'B04', 'B05', 'B06', 'B07', 'B8A', 'B11', 'B12']\n",
      "Estimating LAI from S2_L2A data using SL2P-V0 [Marie Weiss]\n",
      "Run SL2P...\n",
      "SL2P start: 2025-01-12 00:20:11.554892\n",
      "SL2P end: 2025-01-12 00:20:11.710751\n",
      "Generating sl2p input data flag\n",
      "Generating sl2p output product flag\n",
      "Done\n",
      "SL2P input data format for S2_L2A data: ['cosVZA', 'cosSZA', 'cosRAA', 'B03', 'B04', 'B05', 'B06', 'B07', 'B8A', 'B11', 'B12']\n",
      "Estimating LAI from S2_L2A data using SL2P-V0 [Marie Weiss]\n",
      "Run SL2P...\n",
      "SL2P start: 2025-01-12 00:20:18.713223\n",
      "SL2P end: 2025-01-12 00:20:18.867176\n",
      "Generating sl2p input data flag\n",
      "Generating sl2p output product flag\n",
      "Done\n",
      "SL2P input data format for S2_L2A data: ['cosVZA', 'cosSZA', 'cosRAA', 'B03', 'B04', 'B05', 'B06', 'B07', 'B8A', 'B11', 'B12']\n",
      "Estimating LAI from S2_L2A data using SL2P-V0 [Marie Weiss]\n",
      "Run SL2P...\n",
      "SL2P start: 2025-01-12 00:20:24.852021\n",
      "SL2P end: 2025-01-12 00:20:25.007941\n",
      "Generating sl2p input data flag\n",
      "Generating sl2p output product flag\n",
      "Done\n",
      "SL2P input data format for S2_L2A data: ['cosVZA', 'cosSZA', 'cosRAA', 'B03', 'B04', 'B05', 'B06', 'B07', 'B8A', 'B11', 'B12']\n",
      "Estimating LAI from S2_L2A data using SL2P-V0 [Marie Weiss]\n",
      "Run SL2P...\n",
      "SL2P start: 2025-01-12 00:20:31.826853\n",
      "SL2P end: 2025-01-12 00:20:32.030732\n",
      "Generating sl2p input data flag\n",
      "Generating sl2p output product flag\n",
      "Done\n",
      "SL2P input data format for S2_L2A data: ['cosVZA', 'cosSZA', 'cosRAA', 'B03', 'B04', 'B05', 'B06', 'B07', 'B8A', 'B11', 'B12']\n",
      "Estimating LAI from S2_L2A data using SL2P-V0 [Marie Weiss]\n",
      "Run SL2P...\n",
      "SL2P start: 2025-01-12 00:20:40.054932\n",
      "SL2P end: 2025-01-12 00:20:40.211489\n",
      "Generating sl2p input data flag\n",
      "Generating sl2p output product flag\n",
      "Done\n",
      "SL2P input data format for S2_L2A data: ['cosVZA', 'cosSZA', 'cosRAA', 'B03', 'B04', 'B05', 'B06', 'B07', 'B8A', 'B11', 'B12']\n",
      "Estimating LAI from S2_L2A data using SL2P-V0 [Marie Weiss]\n",
      "Run SL2P...\n",
      "SL2P start: 2025-01-12 00:20:46.465127\n",
      "SL2P end: 2025-01-12 00:20:46.635491\n",
      "Generating sl2p input data flag\n",
      "Generating sl2p output product flag\n",
      "Done\n",
      "SL2P input data format for S2_L2A data: ['cosVZA', 'cosSZA', 'cosRAA', 'B03', 'B04', 'B05', 'B06', 'B07', 'B8A', 'B11', 'B12']\n",
      "Estimating LAI from S2_L2A data using SL2P-V0 [Marie Weiss]\n",
      "Run SL2P...\n",
      "SL2P start: 2025-01-12 00:20:54.149418\n",
      "SL2P end: 2025-01-12 00:20:54.378565\n",
      "Generating sl2p input data flag\n",
      "Generating sl2p output product flag\n",
      "Done\n",
      "SL2P input data format for S2_L2A data: ['cosVZA', 'cosSZA', 'cosRAA', 'B03', 'B04', 'B05', 'B06', 'B07', 'B8A', 'B11', 'B12']\n",
      "Estimating LAI from S2_L2A data using SL2P-V0 [Marie Weiss]\n",
      "Run SL2P...\n",
      "SL2P start: 2025-01-12 00:21:02.607952\n",
      "SL2P end: 2025-01-12 00:21:02.767196\n",
      "Generating sl2p input data flag\n",
      "Generating sl2p output product flag\n",
      "Done\n",
      "SL2P input data format for S2_L2A data: ['cosVZA', 'cosSZA', 'cosRAA', 'B03', 'B04', 'B05', 'B06', 'B07', 'B8A', 'B11', 'B12']\n",
      "Estimating LAI from S2_L2A data using SL2P-V0 [Marie Weiss]\n",
      "Run SL2P...\n",
      "SL2P start: 2025-01-12 00:21:09.180649\n",
      "SL2P end: 2025-01-12 00:21:09.298182\n",
      "Generating sl2p input data flag\n",
      "Generating sl2p output product flag\n",
      "Done\n",
      "SL2P input data format for S2_L2A data: ['cosVZA', 'cosSZA', 'cosRAA', 'B03', 'B04', 'B05', 'B06', 'B07', 'B8A', 'B11', 'B12']\n",
      "Estimating LAI from S2_L2A data using SL2P-V0 [Marie Weiss]\n",
      "Run SL2P...\n",
      "SL2P start: 2025-01-12 00:21:15.158909\n",
      "SL2P end: 2025-01-12 00:21:15.300384\n",
      "Generating sl2p input data flag\n",
      "Generating sl2p output product flag\n",
      "Done\n",
      "SL2P input data format for S2_L2A data: ['cosVZA', 'cosSZA', 'cosRAA', 'B03', 'B04', 'B05', 'B06', 'B07', 'B8A', 'B11', 'B12']\n",
      "Estimating LAI from S2_L2A data using SL2P-V0 [Marie Weiss]\n",
      "Run SL2P...\n",
      "SL2P start: 2025-01-12 00:21:21.203179\n",
      "SL2P end: 2025-01-12 00:21:21.359849\n",
      "Generating sl2p input data flag\n",
      "Generating sl2p output product flag\n",
      "Done\n"
     ]
    }
   ],
   "source": [
    "variableName='LAI'\n",
    "# variableName='fAPAR'\n",
    "# variableName='fCOVER'\n",
    "# imageCollectionName=\"COPERNICUS/S2_SR_HARMONIZED\"\n",
    "# imageCollectionName=\"NASA/HLS/HLSL30/v002\"\n",
    "imageCollectionName=\"S2_L2A\"\n",
    "# fn='E:/vegetation/gee/notebook/CFS/sitesS2SR_1k_2021_apr_nov.csv'\n",
    "# fn='E:/vegetation/gee/notebook/CFS/HW_SW/sitesHLSSR_FO_2007_2014_mixed_2019_apr_nov_fraction50_cloud.csv'\n",
    "# fn='E:/vegetation/gee/notebook/CFS/HW_SW/sitesS2SR_FO_2007_2014_mixed_2023_apr_nov_fraction50_cloud.csv'\n",
    "# fn='E:/vegetation/gee/notebook/CFS/HW_SW/sitesS2SR_FO_2007_2018_SW_2020_apr_nov_fraction50_cloud.csv' \n",
    "# fn='E:/vegetation/gee/notebook/CFS/HW_SW/sitesS2SR_FO_2007_2018_SW_2019_apr_nov_fraction50_cloud.csv'\n",
    "# fn='E:/vegetation/gee/notebook/CFS/HW_SW/sitesS2SR_FO_2007_2018_HW_2023_apr_nov_fraction50_cloud.csv'\n",
    "# fn='E:/vegetation/gee/notebook/CFS/HW_SW/S2/SR/sitesS2SR_FO_2015_2018_mixed_2022_apr_nov_fraction50_cloud.csv' \n",
    "# fn='E:/vegetation/gee/notebook/CFS/Ref/sitesS2SR_MW_2023_apr_nov_fraction99_by3.csv'\n",
    "\n",
    "years=list(range(2019, 2025))\n",
    "category=['HW', 'MW', 'SW']\n",
    "\n",
    "for i in years:\n",
    "    for j in category:\n",
    "        \n",
    "        fn='E:/vegetation/gee/notebook/CFS/Ref/sitesS2SR_'+j+'_'+str(i)+'_apr_nov_fraction99.csv'\n",
    "        #### Input data Control ***-\n",
    "        if variableName not in dictionariesSL2P.make_net_options().keys():\n",
    "            raise ValueError(('Supported vegetation valiables: %s'%(dictionariesSL2P.make_net_options().keys())))\n",
    "        if imageCollectionName not in dictionariesSL2P.make_net_options()[variableName].keys():\n",
    "            raise ValueError(('Supported EO datasets: %s'%(dictionariesSL2P.make_net_options()[variableName].keys())))  \n",
    "\n",
    "        sl2p_inputs_bands=dictionariesSL2P.make_net_options()[variableName][imageCollectionName]['inputBands']  \n",
    "        print ('SL2P input data format for %s data: %s' %(imageCollectionName,sl2p_inputs_bands))\n",
    "\n",
    "        data=pd.read_csv(fn)\n",
    "\n",
    "        data.rename(columns={'B1': 'B01', 'B2': 'B02', 'B3': 'B03', 'B4': 'B04', 'B5': 'B05', 'B6': 'B06', 'B7': 'B07', 'B8': 'B08', 'B9': 'B09'}, inplace=True)\n",
    "\n",
    "        # rename column names\n",
    "        data = data.rename(columns={'date': 'time', 'utc': 'Date'})\n",
    "\n",
    "        # calculate NDVI =(NIR-R)/(NIR+R)\n",
    "        data['NDVI']=(data['B08']-data['B04'])/(data['B08']+data['B04']) \n",
    "\n",
    "        DF=SL2P.SL2P(data,variableName,imageCollectionName,sl2p_inputs_bands)\n",
    "\n",
    "        sr_list=['B01', 'B02', 'B03', 'B04', 'B05', 'B06', 'B07', 'B08', 'B8A', 'B09', 'B11', 'B12', 'longitude', 'latitude', 'partition','TARGET_FID','Date', 'NDVI', 's2cloudless_probability']\n",
    "        para_list=['estimateLAI', 'errorLAI', 'QC_input', 'QC_output']\n",
    "        # para_list=['estimatefAPAR', 'errorfAPAR', 'QC_input', 'QC_output']\n",
    "        # para_list=['estimatefCOVER', 'errorfCOVER', 'QC_input', 'QC_output']\n",
    "\n",
    "        #Export DF\n",
    "        data[sr_list].join(DF[para_list]).to_csv(fn.replace('.csv','_%s_SL2P2.csv'%(variableName)))"
   ]
  },
  {
   "cell_type": "markdown",
   "id": "7cd581fc-5f65-46f0-af08-7b11265fd4b4",
   "metadata": {},
   "source": [
    "### 1- Read / prepare data"
   ]
  },
  {
   "cell_type": "code",
   "execution_count": 3,
   "id": "03e2159a-4a16-471c-8839-78cf58308168",
   "metadata": {
    "tags": []
   },
   "outputs": [
    {
     "data": {
      "text/html": [
       "<div>\n",
       "<style scoped>\n",
       "    .dataframe tbody tr th:only-of-type {\n",
       "        vertical-align: middle;\n",
       "    }\n",
       "\n",
       "    .dataframe tbody tr th {\n",
       "        vertical-align: top;\n",
       "    }\n",
       "\n",
       "    .dataframe thead th {\n",
       "        text-align: right;\n",
       "    }\n",
       "</style>\n",
       "<table border=\"1\" class=\"dataframe\">\n",
       "  <thead>\n",
       "    <tr style=\"text-align: right;\">\n",
       "      <th></th>\n",
       "      <th>Unnamed: 0</th>\n",
       "      <th>B1</th>\n",
       "      <th>B2</th>\n",
       "      <th>B3</th>\n",
       "      <th>B4</th>\n",
       "      <th>B5</th>\n",
       "      <th>B6</th>\n",
       "      <th>B7</th>\n",
       "      <th>B8</th>\n",
       "      <th>B8A</th>\n",
       "      <th>...</th>\n",
       "      <th>cosVZA</th>\n",
       "      <th>cosSZA</th>\n",
       "      <th>cosRAA</th>\n",
       "      <th>partition</th>\n",
       "      <th>s2cloudless_probability</th>\n",
       "      <th>TARGET_FID</th>\n",
       "      <th>MSK_CLASSI_OPAQUE</th>\n",
       "      <th>MSK_CLASSI_CIRRUS</th>\n",
       "      <th>MSK_CLASSI_SNOW_ICE</th>\n",
       "      <th>utc</th>\n",
       "    </tr>\n",
       "  </thead>\n",
       "  <tbody>\n",
       "    <tr>\n",
       "      <th>176970</th>\n",
       "      <td>176970</td>\n",
       "      <td>0.1024</td>\n",
       "      <td>0.0908</td>\n",
       "      <td>0.0958</td>\n",
       "      <td>0.0944</td>\n",
       "      <td>0.1139</td>\n",
       "      <td>0.1802</td>\n",
       "      <td>0.1976</td>\n",
       "      <td>0.2269</td>\n",
       "      <td>0.2172</td>\n",
       "      <td>...</td>\n",
       "      <td>0.9968</td>\n",
       "      <td>0.3688</td>\n",
       "      <td>0.0225</td>\n",
       "      <td>6</td>\n",
       "      <td>14.75</td>\n",
       "      <td>6</td>\n",
       "      <td>NaN</td>\n",
       "      <td>NaN</td>\n",
       "      <td>NaN</td>\n",
       "      <td>2023-11-28 16:40:30.128</td>\n",
       "    </tr>\n",
       "    <tr>\n",
       "      <th>176971</th>\n",
       "      <td>176971</td>\n",
       "      <td>0.1187</td>\n",
       "      <td>0.1759</td>\n",
       "      <td>0.1622</td>\n",
       "      <td>0.1504</td>\n",
       "      <td>0.1774</td>\n",
       "      <td>0.2398</td>\n",
       "      <td>0.2499</td>\n",
       "      <td>0.2645</td>\n",
       "      <td>0.2620</td>\n",
       "      <td>...</td>\n",
       "      <td>0.9968</td>\n",
       "      <td>0.3688</td>\n",
       "      <td>0.0225</td>\n",
       "      <td>6</td>\n",
       "      <td>14.50</td>\n",
       "      <td>6</td>\n",
       "      <td>NaN</td>\n",
       "      <td>NaN</td>\n",
       "      <td>NaN</td>\n",
       "      <td>2023-11-28 16:40:30.128</td>\n",
       "    </tr>\n",
       "    <tr>\n",
       "      <th>176972</th>\n",
       "      <td>176972</td>\n",
       "      <td>0.1187</td>\n",
       "      <td>0.1759</td>\n",
       "      <td>0.1622</td>\n",
       "      <td>0.1504</td>\n",
       "      <td>0.1774</td>\n",
       "      <td>0.2398</td>\n",
       "      <td>0.2499</td>\n",
       "      <td>0.2645</td>\n",
       "      <td>0.2620</td>\n",
       "      <td>...</td>\n",
       "      <td>0.9968</td>\n",
       "      <td>0.3688</td>\n",
       "      <td>0.0225</td>\n",
       "      <td>6</td>\n",
       "      <td>13.25</td>\n",
       "      <td>6</td>\n",
       "      <td>NaN</td>\n",
       "      <td>NaN</td>\n",
       "      <td>NaN</td>\n",
       "      <td>2023-11-28 16:40:30.128</td>\n",
       "    </tr>\n",
       "  </tbody>\n",
       "</table>\n",
       "<p>3 rows × 37 columns</p>\n",
       "</div>"
      ],
      "text/plain": [
       "        Unnamed: 0      B1      B2      B3      B4      B5      B6      B7  \\\n",
       "176970      176970  0.1024  0.0908  0.0958  0.0944  0.1139  0.1802  0.1976   \n",
       "176971      176971  0.1187  0.1759  0.1622  0.1504  0.1774  0.2398  0.2499   \n",
       "176972      176972  0.1187  0.1759  0.1622  0.1504  0.1774  0.2398  0.2499   \n",
       "\n",
       "            B8     B8A  ...  cosVZA  cosSZA  cosRAA  partition  \\\n",
       "176970  0.2269  0.2172  ...  0.9968  0.3688  0.0225          6   \n",
       "176971  0.2645  0.2620  ...  0.9968  0.3688  0.0225          6   \n",
       "176972  0.2645  0.2620  ...  0.9968  0.3688  0.0225          6   \n",
       "\n",
       "        s2cloudless_probability  TARGET_FID  MSK_CLASSI_OPAQUE  \\\n",
       "176970                    14.75           6                NaN   \n",
       "176971                    14.50           6                NaN   \n",
       "176972                    13.25           6                NaN   \n",
       "\n",
       "        MSK_CLASSI_CIRRUS  MSK_CLASSI_SNOW_ICE                      utc  \n",
       "176970                NaN                  NaN  2023-11-28 16:40:30.128  \n",
       "176971                NaN                  NaN  2023-11-28 16:40:30.128  \n",
       "176972                NaN                  NaN  2023-11-28 16:40:30.128  \n",
       "\n",
       "[3 rows x 37 columns]"
      ]
     },
     "execution_count": 3,
     "metadata": {},
     "output_type": "execute_result"
    }
   ],
   "source": [
    "data=pd.read_csv(fn)\n",
    "data.tail(3)\n",
    "# print('done')"
   ]
  },
  {
   "cell_type": "code",
   "execution_count": 4,
   "id": "d0892d9b-b63c-4715-9da0-d8ea19b4611b",
   "metadata": {},
   "outputs": [],
   "source": [
    "# list(data.columns.values)"
   ]
  },
  {
   "cell_type": "code",
   "execution_count": 5,
   "id": "88f6eb8a-2670-4d1d-a45a-841c45a82aa0",
   "metadata": {
    "tags": []
   },
   "outputs": [],
   "source": [
    "data.rename(columns={'B1': 'B01', 'B2': 'B02', 'B3': 'B03', 'B4': 'B04', 'B5': 'B05', 'B6': 'B06', 'B7': 'B07', 'B8': 'B08', 'B9': 'B09'}, inplace=True)"
   ]
  },
  {
   "cell_type": "code",
   "execution_count": 6,
   "id": "dcc2d1c8-cffe-452c-9514-0e7d77a788dc",
   "metadata": {},
   "outputs": [],
   "source": [
    "# rename column names\n",
    "data = data.rename(columns={'date': 'time', 'utc': 'Date'})"
   ]
  },
  {
   "cell_type": "code",
   "execution_count": 7,
   "id": "d19962c2-413e-432c-85cc-bc0ef5562084",
   "metadata": {
    "tags": []
   },
   "outputs": [
    {
     "data": {
      "text/html": [
       "<div>\n",
       "<style scoped>\n",
       "    .dataframe tbody tr th:only-of-type {\n",
       "        vertical-align: middle;\n",
       "    }\n",
       "\n",
       "    .dataframe tbody tr th {\n",
       "        vertical-align: top;\n",
       "    }\n",
       "\n",
       "    .dataframe thead th {\n",
       "        text-align: right;\n",
       "    }\n",
       "</style>\n",
       "<table border=\"1\" class=\"dataframe\">\n",
       "  <thead>\n",
       "    <tr style=\"text-align: right;\">\n",
       "      <th></th>\n",
       "      <th>cosVZA</th>\n",
       "      <th>cosSZA</th>\n",
       "      <th>cosRAA</th>\n",
       "      <th>B03</th>\n",
       "      <th>B04</th>\n",
       "      <th>B05</th>\n",
       "      <th>B06</th>\n",
       "      <th>B07</th>\n",
       "      <th>B8A</th>\n",
       "      <th>B11</th>\n",
       "      <th>B12</th>\n",
       "    </tr>\n",
       "  </thead>\n",
       "  <tbody>\n",
       "    <tr>\n",
       "      <th>176970</th>\n",
       "      <td>0.9968</td>\n",
       "      <td>0.3688</td>\n",
       "      <td>0.0225</td>\n",
       "      <td>0.0958</td>\n",
       "      <td>0.0944</td>\n",
       "      <td>0.1139</td>\n",
       "      <td>0.1802</td>\n",
       "      <td>0.1976</td>\n",
       "      <td>0.2172</td>\n",
       "      <td>0.0404</td>\n",
       "      <td>0.0340</td>\n",
       "    </tr>\n",
       "    <tr>\n",
       "      <th>176971</th>\n",
       "      <td>0.9968</td>\n",
       "      <td>0.3688</td>\n",
       "      <td>0.0225</td>\n",
       "      <td>0.1622</td>\n",
       "      <td>0.1504</td>\n",
       "      <td>0.1774</td>\n",
       "      <td>0.2398</td>\n",
       "      <td>0.2499</td>\n",
       "      <td>0.2620</td>\n",
       "      <td>0.0368</td>\n",
       "      <td>0.0333</td>\n",
       "    </tr>\n",
       "    <tr>\n",
       "      <th>176972</th>\n",
       "      <td>0.9968</td>\n",
       "      <td>0.3688</td>\n",
       "      <td>0.0225</td>\n",
       "      <td>0.1622</td>\n",
       "      <td>0.1504</td>\n",
       "      <td>0.1774</td>\n",
       "      <td>0.2398</td>\n",
       "      <td>0.2499</td>\n",
       "      <td>0.2620</td>\n",
       "      <td>0.0368</td>\n",
       "      <td>0.0333</td>\n",
       "    </tr>\n",
       "  </tbody>\n",
       "</table>\n",
       "</div>"
      ],
      "text/plain": [
       "        cosVZA  cosSZA  cosRAA     B03     B04     B05     B06     B07  \\\n",
       "176970  0.9968  0.3688  0.0225  0.0958  0.0944  0.1139  0.1802  0.1976   \n",
       "176971  0.9968  0.3688  0.0225  0.1622  0.1504  0.1774  0.2398  0.2499   \n",
       "176972  0.9968  0.3688  0.0225  0.1622  0.1504  0.1774  0.2398  0.2499   \n",
       "\n",
       "           B8A     B11     B12  \n",
       "176970  0.2172  0.0404  0.0340  \n",
       "176971  0.2620  0.0368  0.0333  \n",
       "176972  0.2620  0.0368  0.0333  "
      ]
     },
     "execution_count": 7,
     "metadata": {},
     "output_type": "execute_result"
    }
   ],
   "source": [
    "data[sl2p_inputs_bands].tail(3)"
   ]
  },
  {
   "cell_type": "code",
   "execution_count": 8,
   "id": "05cd45cb-2f7f-470c-8f49-87bbece7fdd5",
   "metadata": {
    "tags": []
   },
   "outputs": [],
   "source": [
    "# data[sl2p_inputs_bands]=data[sl2p_inputs_bands]/10000"
   ]
  },
  {
   "cell_type": "code",
   "execution_count": 9,
   "id": "23db52d6-fcea-42d3-8f00-4ca1dfa0c955",
   "metadata": {
    "tags": []
   },
   "outputs": [],
   "source": [
    "# data[sl2p_inputs_bands].tail(3)"
   ]
  },
  {
   "cell_type": "code",
   "execution_count": 10,
   "id": "b607387e-5b3d-4026-8719-5548f6ed7339",
   "metadata": {},
   "outputs": [],
   "source": [
    "# divide 10000 for other bands.\n",
    "# data[['B01', 'B02', 'B08','B09']] =data[['B01', 'B02', 'B08','B09']].div(10000)"
   ]
  },
  {
   "cell_type": "code",
   "execution_count": 11,
   "id": "fa85bde3-1d19-432e-9d32-2c3f18a5be4c",
   "metadata": {},
   "outputs": [],
   "source": [
    "# calculate NDVI =(NIR-R)/(NIR+R)\n",
    "data['NDVI']=(data['B08']-data['B04'])/(data['B08']+data['B04']) "
   ]
  },
  {
   "cell_type": "code",
   "execution_count": 12,
   "id": "4f599015-a2dd-43e4-b543-017582db216b",
   "metadata": {},
   "outputs": [],
   "source": [
    "# data.head(3)"
   ]
  },
  {
   "cell_type": "code",
   "execution_count": 13,
   "id": "4654d5ed-3256-4741-84d1-d0869180c66d",
   "metadata": {},
   "outputs": [],
   "source": [
    "# list(data.columns.values)"
   ]
  },
  {
   "cell_type": "markdown",
   "id": "f5f87402-034e-4bfc-a8cc-66d9e560bf8f",
   "metadata": {},
   "source": [
    "### 2 - Run SL2PV0 / export outputs"
   ]
  },
  {
   "cell_type": "code",
   "execution_count": 14,
   "id": "399b3e8f-5b36-4510-afb6-0241257c709e",
   "metadata": {
    "tags": []
   },
   "outputs": [
    {
     "name": "stdout",
     "output_type": "stream",
     "text": [
      "Estimating LAI from S2_L2A data using SL2P-V0 [Marie Weiss]\n",
      "Run SL2P...\n",
      "SL2P start: 2024-12-17 11:38:44.315697\n",
      "SL2P end: 2024-12-17 11:38:44.590258\n",
      "Generating sl2p input data flag\n",
      "Generating sl2p output product flag\n",
      "Done\n"
     ]
    },
    {
     "data": {
      "text/html": [
       "<div>\n",
       "<style scoped>\n",
       "    .dataframe tbody tr th:only-of-type {\n",
       "        vertical-align: middle;\n",
       "    }\n",
       "\n",
       "    .dataframe tbody tr th {\n",
       "        vertical-align: top;\n",
       "    }\n",
       "\n",
       "    .dataframe thead th {\n",
       "        text-align: right;\n",
       "    }\n",
       "</style>\n",
       "<table border=\"1\" class=\"dataframe\">\n",
       "  <thead>\n",
       "    <tr style=\"text-align: right;\">\n",
       "      <th></th>\n",
       "      <th>estimateLAI</th>\n",
       "      <th>networkID</th>\n",
       "      <th>errorLAI</th>\n",
       "      <th>QC_input</th>\n",
       "      <th>QC_output</th>\n",
       "    </tr>\n",
       "  </thead>\n",
       "  <tbody>\n",
       "    <tr>\n",
       "      <th>176970</th>\n",
       "      <td>2.156188</td>\n",
       "      <td>0</td>\n",
       "      <td>0.666717</td>\n",
       "      <td>1</td>\n",
       "      <td>0</td>\n",
       "    </tr>\n",
       "    <tr>\n",
       "      <th>176971</th>\n",
       "      <td>2.120662</td>\n",
       "      <td>0</td>\n",
       "      <td>0.493797</td>\n",
       "      <td>1</td>\n",
       "      <td>0</td>\n",
       "    </tr>\n",
       "    <tr>\n",
       "      <th>176972</th>\n",
       "      <td>2.120662</td>\n",
       "      <td>0</td>\n",
       "      <td>0.493797</td>\n",
       "      <td>1</td>\n",
       "      <td>0</td>\n",
       "    </tr>\n",
       "  </tbody>\n",
       "</table>\n",
       "</div>"
      ],
      "text/plain": [
       "        estimateLAI  networkID  errorLAI  QC_input  QC_output\n",
       "176970     2.156188          0  0.666717         1          0\n",
       "176971     2.120662          0  0.493797         1          0\n",
       "176972     2.120662          0  0.493797         1          0"
      ]
     },
     "execution_count": 14,
     "metadata": {},
     "output_type": "execute_result"
    }
   ],
   "source": [
    "DF=SL2P.SL2P(data,variableName,imageCollectionName,sl2p_inputs_bands)\n",
    "DF.tail(3)"
   ]
  },
  {
   "cell_type": "code",
   "execution_count": 15,
   "id": "6c861464-70a2-4854-90f4-7ac3a11793c5",
   "metadata": {
    "tags": []
   },
   "outputs": [
    {
     "data": {
      "text/plain": [
       "[<matplotlib.lines.Line2D at 0x1ed8ffbc3a0>]"
      ]
     },
     "execution_count": 15,
     "metadata": {},
     "output_type": "execute_result"
    },
    {
     "data": {
      "image/png": "[encoded data removed]",
      "text/plain": [
       "<Figure size 640x480 with 1 Axes>"
      ]
     },
     "metadata": {},
     "output_type": "display_data"
    }
   ],
   "source": [
    "plt.plot(DF['estimateLAI'],'.k')\n",
    "# plt.plot(DF['estimatefAPAR'],'.k')\n",
    "# plt.plot(DF['estimatefCOVER'],'.k')"
   ]
  },
  {
   "cell_type": "code",
   "execution_count": 18,
   "id": "f981324b-0b3b-466f-b0ed-df58a311521d",
   "metadata": {},
   "outputs": [],
   "source": [
    "sr_list=['B01', 'B02', 'B03', 'B04', 'B05', 'B06', 'B07', 'B08', 'B8A', 'B09', 'B11', 'B12', 'longitude', 'latitude', 'TARGET_FID','Date', 'NDVI', 's2cloudless_probability']\n",
    "para_list=['estimateLAI', 'errorLAI', 'QC_input', 'QC_output']\n",
    "# para_list=['estimatefAPAR', 'errorfAPAR', 'QC_input', 'QC_output']\n",
    "# para_list=['estimatefCOVER', 'errorfCOVER', 'QC_input', 'QC_output']"
   ]
  },
  {
   "cell_type": "code",
   "execution_count": 19,
   "id": "57325b80-be61-41f4-8a25-f44ceab9dfb1",
   "metadata": {
    "tags": []
   },
   "outputs": [],
   "source": [
    "#Export DF\n",
    "# data[['date', 'longitude', 'latitude']].join(DF).to_csv(fn.replace('.csv','_%s_SL2P.csv'%(variableName))) \n",
    "data[sr_list].join(DF[para_list]).to_csv(fn.replace('.csv','_%s_SL2P2.csv'%(variableName))) "
   ]
  },
  {
   "cell_type": "markdown",
   "id": "f33bfa5e-6073-4260-bb44-021ce6cea8b7",
   "metadata": {},
   "source": [
    "### 3 - Run SL2P-CCRS / export outputs"
   ]
  },
  {
   "cell_type": "code",
   "execution_count": null,
   "id": "006ea772-6eb3-4643-83be-5952ce9b7a22",
   "metadata": {
    "tags": []
   },
   "outputs": [],
   "source": [
    "DF=SL2P.SL2PCCRS(data,variableName,imageCollectionName,sl2p_inputs_bands)\n",
    "DF"
   ]
  },
  {
   "cell_type": "code",
   "execution_count": null,
   "id": "629126f8-7fd2-4ded-8644-aa5d6cdb7ccd",
   "metadata": {
    "tags": []
   },
   "outputs": [],
   "source": [
    "#Export DF\n",
    "data[['date', 'longitude', 'latitude']].join(DF).to_csv(fn.replace('.csv','_%s_SL2PCCRS.csv'%(variableName))) "
   ]
  },
  {
   "cell_type": "code",
   "execution_count": null,
   "id": "08bea44b-14ad-400f-b34c-c6569d959937",
   "metadata": {
    "tags": []
   },
   "outputs": [],
   "source": [
    "fn.replace('.csv','_%s_SL2PND.csv'%(variableName))"
   ]
  },
  {
   "cell_type": "code",
   "execution_count": null,
   "id": "6a4742b9-6a7f-4e93-9c96-ab1e6e686273",
   "metadata": {},
   "outputs": [],
   "source": []
  }
 ],
 "metadata": {
  "kernelspec": {
   "display_name": "Python 3 (ipykernel)",
   "language": "python",
   "name": "python3"
  },
  "language_info": {
   "codemirror_mode": {
    "name": "ipython",
    "version": 3
   },
   "file_extension": ".py",
   "mimetype": "text/x-python",
   "name": "python",
   "nbconvert_exporter": "python",
   "pygments_lexer": "ipython3",
   "version": "3.10.9"
  }
 },
 "nbformat": 4,
 "nbformat_minor": 5
}
